{
 "cells": [
  {
   "cell_type": "code",
   "execution_count": 7,
   "id": "8522aa8b",
   "metadata": {},
   "outputs": [],
   "source": [
    "import json, time, urllib.parse\n",
    "import pandas as pd\n",
    "from tqdm import tqdm\n",
    "import requests"
   ]
  },
  {
   "cell_type": "markdown",
   "id": "e87fb763",
   "metadata": {},
   "source": [
    "Reading CSV"
   ]
  },
  {
   "cell_type": "code",
   "execution_count": 8,
   "id": "14d3b018",
   "metadata": {},
   "outputs": [],
   "source": [
    "df = pd.read_csv(\"thank_the_academy.AUG.2023.csv\")"
   ]
  },
  {
   "cell_type": "markdown",
   "id": "e16bd609",
   "metadata": {},
   "source": [
    "API Endpoints"
   ]
  },
  {
   "cell_type": "code",
   "execution_count": 9,
   "id": "6f30ad58",
   "metadata": {},
   "outputs": [],
   "source": [
    "# API endpoints for mobile web, mobile app, and desktop data\n",
    "base_api_url = \"https://wikimedia.org/api/rest_v1/metrics/pageviews/per-article/en.wikipedia\"\n",
    "mobile_web_suffix = \"/mobile-web/all-agents/\"\n",
    "mobile_app_suffix = \"/mobile-app/all-agents/\"\n",
    "desktop_suffix = \"/desktop/all-agents/\"\n",
    "granularity = \"/monthly/2015070100/2023123100\"  # Updated date range\n"
   ]
  },
  {
   "cell_type": "markdown",
   "id": "62ec6e36",
   "metadata": {},
   "source": [
    "Headers"
   ]
  },
  {
   "cell_type": "code",
   "execution_count": 10,
   "id": "42aedbf1",
   "metadata": {},
   "outputs": [],
   "source": [
    "# User-Agent header\n",
    "headers = {\n",
    "    'User-Agent': '<uwnetid@uw.edu>, University of Washington, MSDS DATA 512 - AUTUMN 2023',\n",
    "}"
   ]
  },
  {
   "cell_type": "markdown",
   "id": "065bc404",
   "metadata": {},
   "source": [
    "Response Dictionaries"
   ]
  },
  {
   "cell_type": "code",
   "execution_count": 11,
   "id": "df4e9db6",
   "metadata": {},
   "outputs": [],
   "source": [
    "# dictionaries to store data\n",
    "all_monthly_mobile_access = {}\n",
    "all_monthly_desktop_access = {}\n",
    "all_monthly_cumulative = {}\n"
   ]
  },
  {
   "cell_type": "markdown",
   "id": "d2f63a68",
   "metadata": {},
   "source": [
    "Data Aquisition: Iterating rows, Calling APIs, and combining results"
   ]
  },
  {
   "cell_type": "code",
   "execution_count": 12,
   "id": "58805a1b",
   "metadata": {},
   "outputs": [
    {
     "name": "stderr",
     "output_type": "stream",
     "text": [
      "583it [16:39,  1.37s/it]"
     ]
    },
    {
     "name": "stdout",
     "output_type": "stream",
     "text": [
      "Failed to retrieve data for 'Victor/Victoria'. Mobile web status code: 404, Mobile app status code: 404, Desktop status code: 404\n"
     ]
    },
    {
     "name": "stderr",
     "output_type": "stream",
     "text": [
      "654it [18:46,  1.35s/it]"
     ]
    },
    {
     "name": "stdout",
     "output_type": "stream",
     "text": [
      "Failed to retrieve data for 'Who Are the DeBolts? And Where Did They Get Nineteen Kids?'. Mobile web status code: 404, Mobile app status code: 404, Desktop status code: 404\n"
     ]
    },
    {
     "name": "stderr",
     "output_type": "stream",
     "text": [
      "746it [21:27,  1.46s/it]"
     ]
    },
    {
     "name": "stdout",
     "output_type": "stream",
     "text": [
      "Failed to retrieve data for 'Is It Always Right to Be Right?'. Mobile web status code: 404, Mobile app status code: 404, Desktop status code: 404\n"
     ]
    },
    {
     "name": "stderr",
     "output_type": "stream",
     "text": [
      "754it [21:39,  1.36s/it]"
     ]
    },
    {
     "name": "stdout",
     "output_type": "stream",
     "text": [
      "Failed to retrieve data for 'They Shoot Horses, Don't They? (film)'. Mobile web status code: 404, Mobile app status code: 404, Desktop status code: 404\n"
     ]
    },
    {
     "name": "stderr",
     "output_type": "stream",
     "text": [
      "795it [22:49,  1.45s/it]"
     ]
    },
    {
     "name": "stdout",
     "output_type": "stream",
     "text": [
      "Failed to retrieve data for 'Who's Afraid of Virginia Woolf? (film)'. Mobile web status code: 404, Mobile app status code: 404, Desktop status code: 404\n"
     ]
    },
    {
     "name": "stderr",
     "output_type": "stream",
     "text": [
      "1331it [38:43,  1.30s/it]"
     ]
    },
    {
     "name": "stdout",
     "output_type": "stream",
     "text": [
      "Failed to retrieve data for 'What Ever Happened to Baby Jane? (1962 film)'. Mobile web status code: 404, Mobile app status code: 404, Desktop status code: 404\n"
     ]
    },
    {
     "name": "stderr",
     "output_type": "stream",
     "text": [
      "1338it [38:54,  1.28s/it]"
     ]
    },
    {
     "name": "stdout",
     "output_type": "stream",
     "text": [
      "Failed to retrieve data for 'Why Korea?'. Mobile web status code: 404, Mobile app status code: 404, Desktop status code: 404\n"
     ]
    },
    {
     "name": "stderr",
     "output_type": "stream",
     "text": [
      "1359it [39:32,  1.75s/it]\n"
     ]
    }
   ],
   "source": [
    "# Loop through each row\n",
    "for index, row in tqdm(df.iterrows()):\n",
    "    article_name = row[\"name\"]\n",
    "    article_url = row[\"url\"]\n",
    "\n",
    "    mobile_web_api_endpoint = f\"{base_api_url}{mobile_web_suffix}{article_name}{granularity}\"\n",
    "    mobile_app_api_endpoint = f\"{base_api_url}{mobile_app_suffix}{article_name}{granularity}\"\n",
    "    desktop_api_endpoint = f\"{base_api_url}{desktop_suffix}{article_name}{granularity}\"\n",
    "\n",
    "    mobile_web_response = requests.get(mobile_web_api_endpoint, headers=headers)\n",
    "    mobile_app_response = requests.get(mobile_app_api_endpoint, headers=headers)\n",
    "    desktop_response = requests.get(desktop_api_endpoint, headers=headers)\n",
    "\n",
    "    # Check if the requests were successful\n",
    "    if (mobile_web_response.status_code == 200 and\n",
    "        mobile_app_response.status_code == 200 and\n",
    "        desktop_response.status_code == 200):\n",
    "        \n",
    "        # Parse mobile web data\n",
    "        mobile_web_data = mobile_web_response.json()['items']\n",
    "        monthly_mobile_web_access = {}\n",
    "        for item in mobile_web_data:\n",
    "            month = item['timestamp'][:6]  \n",
    "            pageviews = item['views']\n",
    "            monthly_mobile_web_access[month] = pageviews\n",
    "\n",
    "        # Parse mobile app data\n",
    "        mobile_app_data = mobile_app_response.json()['items']\n",
    "        monthly_mobile_app_access = {}\n",
    "        for item in mobile_app_data:\n",
    "            month = item['timestamp'][:6] \n",
    "            pageviews = item['views']\n",
    "            monthly_mobile_app_access[month] = pageviews\n",
    "\n",
    "        # Combine mobile web and mobile app data for total mobile access\n",
    "        monthly_mobile_access = {}\n",
    "        for month in monthly_mobile_web_access.keys():\n",
    "            web_count = monthly_mobile_web_access.get(month, 0)\n",
    "            app_count = monthly_mobile_app_access.get(month, 0)\n",
    "            total_mobile_count = web_count + app_count\n",
    "            monthly_mobile_access[month] = total_mobile_count\n",
    "\n",
    "        # Parse desktop data\n",
    "        desktop_data = desktop_response.json()['items']\n",
    "        monthly_desktop_access = {}\n",
    "        for item in desktop_data:\n",
    "            month = item['timestamp'][:6] \n",
    "            pageviews = item['views']\n",
    "            monthly_desktop_access[month] = pageviews\n",
    "\n",
    "        # Store data in dictionaries\n",
    "        all_monthly_mobile_access[article_name] = monthly_mobile_access\n",
    "        all_monthly_desktop_access[article_name] = monthly_desktop_access\n",
    "\n",
    "        # Calculate cumulative data\n",
    "        monthly_cumulative = {}\n",
    "        for month in monthly_mobile_access.keys():\n",
    "            total_mobile = monthly_mobile_access.get(month, 0)\n",
    "            total_desktop = monthly_desktop_access.get(month, 0)\n",
    "            total_cumulative = total_mobile + total_desktop\n",
    "            monthly_cumulative[month] = total_cumulative\n",
    "\n",
    "        all_monthly_cumulative[article_name] = monthly_cumulative\n",
    "    else:\n",
    "        print(f\"Failed to retrieve data for '{article_name}'. Mobile web status code: {mobile_web_response.status_code}, Mobile app status code: {mobile_app_response.status_code}, Desktop status code: {desktop_response.status_code}\")\n",
    "\n"
   ]
  },
  {
   "cell_type": "markdown",
   "id": "d5ff7e6a",
   "metadata": {},
   "source": [
    "Saving Data"
   ]
  },
  {
   "cell_type": "code",
   "execution_count": 13,
   "id": "f8829980",
   "metadata": {},
   "outputs": [
    {
     "name": "stdout",
     "output_type": "stream",
     "text": [
      "All data saved successfully.\n"
     ]
    }
   ],
   "source": [
    "# Save all data to JSON files\n",
    "with open(\"academy_monthly_mobile_201507-202312.json\", \"w\") as mobile_file:\n",
    "    json.dump(all_monthly_mobile_access, mobile_file)\n",
    "\n",
    "with open(\"academy_monthly_desktop_201507-202312.json\", \"w\") as desktop_file:\n",
    "    json.dump(all_monthly_desktop_access, desktop_file)\n",
    "\n",
    "with open(\"academy_monthly_cumulative_201507-202312.json\", \"w\") as cumulative_file:\n",
    "    json.dump(all_monthly_cumulative, cumulative_file)\n",
    "\n",
    "print(\"All data saved successfully.\")"
   ]
  },
  {
   "cell_type": "code",
   "execution_count": null,
   "id": "4c9405bd",
   "metadata": {},
   "outputs": [],
   "source": []
  }
 ],
 "metadata": {
  "kernelspec": {
   "display_name": "Python 3 (ipykernel)",
   "language": "python",
   "name": "python3"
  },
  "language_info": {
   "codemirror_mode": {
    "name": "ipython",
    "version": 3
   },
   "file_extension": ".py",
   "mimetype": "text/x-python",
   "name": "python",
   "nbconvert_exporter": "python",
   "pygments_lexer": "ipython3",
   "version": "3.9.0rc2"
  }
 },
 "nbformat": 4,
 "nbformat_minor": 5
}
