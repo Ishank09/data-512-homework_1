{
 "cells": [
  {
   "cell_type": "markdown",
   "id": "cf8e4f59",
   "metadata": {},
   "source": [
    "Importing Libraries"
   ]
  },
  {
   "cell_type": "code",
   "execution_count": 40,
   "id": "770df2a1",
   "metadata": {},
   "outputs": [],
   "source": [
    "import json\n",
    "import pandas as pd\n",
    "import matplotlib.pyplot as plt"
   ]
  },
  {
   "cell_type": "markdown",
   "id": "324b42b1",
   "metadata": {},
   "source": [
    "Loading data"
   ]
  },
  {
   "cell_type": "code",
   "execution_count": 41,
   "id": "1fdf027f",
   "metadata": {},
   "outputs": [],
   "source": [
    "# Load the data from the JSON files\n",
    "with open(\"academy_monthly_mobile_201507-202312.json\", \"r\") as mobile_file:\n",
    "    mobile_data = json.load(mobile_file)\n",
    "\n",
    "with open(\"academy_monthly_desktop_201507-202312.json\", \"r\") as desktop_file:\n",
    "    desktop_data = json.load(desktop_file)"
   ]
  },
  {
   "cell_type": "markdown",
   "id": "35e1d59e",
   "metadata": {},
   "source": [
    "Convert to pandas data frame"
   ]
  },
  {
   "cell_type": "code",
   "execution_count": 42,
   "id": "9229cca9",
   "metadata": {},
   "outputs": [],
   "source": [
    "#  mobile and desktop data into a DataFrame\n",
    "df_mobile = pd.DataFrame(mobile_data)\n",
    "df_desktop = pd.DataFrame(desktop_data)\n"
   ]
  },
  {
   "cell_type": "markdown",
   "id": "368ccd32",
   "metadata": {},
   "source": [
    "Average"
   ]
  },
  {
   "cell_type": "code",
   "execution_count": 43,
   "id": "bb1b2a00",
   "metadata": {},
   "outputs": [],
   "source": [
    "# Calculate the average pageviews for each article\n",
    "\n",
    "average_mobile = df_mobile.mean()\n",
    "average_desktop = df_desktop.mean()\n"
   ]
  },
  {
   "cell_type": "code",
   "execution_count": 44,
   "id": "08434ddb",
   "metadata": {},
   "outputs": [
    {
     "data": {
      "text/plain": [
       "Everything Everywhere All at Once             313185.326087\n",
       "All Quiet on the Western Front (2022 film)    180425.240000\n",
       "The Whale (2022 film)                         553243.125000\n",
       "Top Gun: Maverick                             289012.454545\n",
       "Black Panther: Wakanda Forever                511506.466667\n",
       "                                                  ...      \n",
       "The Yankee Doodle Mouse                          911.120000\n",
       "The Yearling (1946 film)                        2686.442857\n",
       "Yesterday, Today and Tomorrow                   1832.830000\n",
       "You Can't Take It with You (film)               4085.400000\n",
       "Zorba the Greek (film)                          7880.140000\n",
       "Length: 1352, dtype: float64"
      ]
     },
     "execution_count": 44,
     "metadata": {},
     "output_type": "execute_result"
    }
   ],
   "source": [
    "average_mobile"
   ]
  },
  {
   "cell_type": "markdown",
   "id": "a423f40b",
   "metadata": {},
   "source": [
    "Highest and lowest average pageviews"
   ]
  },
  {
   "cell_type": "code",
   "execution_count": 45,
   "id": "4f398e0f",
   "metadata": {},
   "outputs": [],
   "source": [
    "# Find articles with the highest and lowest average pageviews\n",
    "max_mobile_article = average_mobile.idxmax()\n",
    "min_mobile_article = average_mobile.idxmin()\n",
    "max_desktop_article = average_desktop.idxmax()\n",
    "min_desktop_article = average_desktop.idxmin()"
   ]
  },
  {
   "cell_type": "markdown",
   "id": "47ded233",
   "metadata": {},
   "source": [
    "Top 10 peak pageviews "
   ]
  },
  {
   "cell_type": "code",
   "execution_count": 46,
   "id": "788ab852",
   "metadata": {},
   "outputs": [],
   "source": [
    "# Create a DataFrame for top 10 peak pageviews for each access type\n",
    "top_10_mobile = df_mobile.max().nlargest(10)\n",
    "top_10_desktop = df_desktop.max().nlargest(10)\n"
   ]
  },
  {
   "cell_type": "markdown",
   "id": "d24c73cd",
   "metadata": {},
   "source": [
    "Fewest months of data"
   ]
  },
  {
   "cell_type": "code",
   "execution_count": 47,
   "id": "73516e10",
   "metadata": {},
   "outputs": [],
   "source": [
    "\n",
    "# Create a DataFrame for articles with the fewest months of data\n",
    "fewest_months_mobile = df_mobile.count().nsmallest(10)\n",
    "fewest_months_desktop = df_desktop.count().nsmallest(10)"
   ]
  },
  {
   "cell_type": "markdown",
   "id": "24ccaaf9",
   "metadata": {},
   "source": [
    "Plots"
   ]
  },
  {
   "cell_type": "markdown",
   "id": "c673af06",
   "metadata": {},
   "source": [
    "Maximum Average and Minimum Average"
   ]
  },
  {
   "cell_type": "code",
   "execution_count": 48,
   "id": "0d9fcb1c",
   "metadata": {},
   "outputs": [],
   "source": [
    "\n",
    "# Graph 1: Maximum Average and Minimum Average\n",
    "\n",
    "\n",
    "# Plot Maximum Average and Minimum Average\n",
    "fig, ax1 = plt.subplots(figsize=(12, 6))\n",
    "\n",
    "color = 'tab:blue'\n",
    "ax1.set_xlabel(\"Year-Month\")\n",
    "ax1.set_ylabel(\"Desktop Page Requests\", color=color)\n",
    "ax1.plot(df_desktop.index, df_desktop[max_desktop_article], label=f'Max Desktop: {max_desktop_article}', color=color)\n",
    "ax1.plot(df_desktop.index, df_desktop[min_desktop_article], label=f'Min Desktop: {min_desktop_article}', linestyle='--', color=color)\n",
    "ax1.tick_params(axis='y', labelcolor=color)\n",
    "\n",
    "ax2 = ax1.twinx()  # Create a secondary y-axis\n",
    "color = 'tab:orange'\n",
    "ax2.set_ylabel(\"Mobile Page Requests\", color=color)\n",
    "ax2.plot(df_mobile.index, df_mobile[max_mobile_article], label=f'Max Mobile: {max_mobile_article}', color=color)\n",
    "ax2.plot(df_mobile.index, df_mobile[min_mobile_article], label=f'Min Mobile: {min_mobile_article}', linestyle='--', color=color)\n",
    "ax2.tick_params(axis='y', labelcolor=color)\n",
    "\n",
    "# Reduce the number of x-axis ticks for better readability\n",
    "x_ticks = df_desktop.index[::6]  # Display every 6th label\n",
    "ax1.set_xticks(x_ticks)\n",
    "ax1.set_xticklabels([str(label) for label in x_ticks], rotation=45, ha=\"right\")  # Rotate labels\n",
    "\n",
    "fig.tight_layout()\n",
    "fig.legend(loc=\"upper left\", bbox_to_anchor=(0.15, 0.9))\n",
    "plt.title(\"Maximum Average and Minimum Average Page Requests\")\n",
    "plt.grid(True)\n",
    "plt.savefig(\"max_min_average_page_requests.png\")\n",
    "plt.close()\n"
   ]
  },
  {
   "cell_type": "markdown",
   "id": "42ad9e63",
   "metadata": {},
   "source": [
    "Top 10 Peak Page Views"
   ]
  },
  {
   "cell_type": "code",
   "execution_count": 49,
   "id": "b55b4b1d",
   "metadata": {},
   "outputs": [],
   "source": [
    "\n",
    "# Graph 2: Top 10 Peak Page Views\n",
    "plt.figure(figsize=(12, 6))\n",
    "for article in top_10_mobile.index:\n",
    "    plt.plot(df_mobile.index, df_mobile[article], label=f\"Mobile: {article}\")\n",
    "for article in top_10_desktop.index:\n",
    "    plt.plot(df_desktop.index, df_desktop[article], label=f\"Desktop: {article}\")\n",
    "plt.xlabel(\"Year-Month\")\n",
    "plt.ylabel(\"Page Views\")\n",
    "plt.title(\"Top 10 Peak Page Views Over Time\")\n",
    "plt.legend()\n",
    "plt.xticks(df_mobile.index[::6], rotation=45, ha=\"right\")\n",
    "plt.savefig(\"top_10_peak_pageviews.png\")\n",
    "plt.close()\n"
   ]
  },
  {
   "cell_type": "markdown",
   "id": "e4fec2b2",
   "metadata": {},
   "source": [
    "Fewest Months of Data"
   ]
  },
  {
   "cell_type": "code",
   "execution_count": 50,
   "id": "7e6c0df7",
   "metadata": {},
   "outputs": [
    {
     "name": "stdout",
     "output_type": "stream",
     "text": [
      "Analysis completed and graphs saved as PNG files.\n"
     ]
    }
   ],
   "source": [
    "\n",
    "# Graph 3: Fewest Months of Data\n",
    "plt.figure(figsize=(12, 6))\n",
    "for article in fewest_months_mobile.index:\n",
    "    plt.plot(df_mobile.index, df_mobile[article], label=f\"Mobile: {article}\")\n",
    "for article in fewest_months_desktop.index:\n",
    "    plt.plot(df_desktop.index, df_desktop[article], label=f\"Desktop: {article}\")\n",
    "plt.xlabel(\"Year-Month\")\n",
    "plt.ylabel(\"Page Views\")\n",
    "plt.title(\"Articles with Fewest Months of Data\")\n",
    "plt.legend()\n",
    "plt.xticks(df_mobile.index[::6], rotation=45, ha=\"right\")\n",
    "plt.savefig(\"fewest_months_data_pageviews.png\")\n",
    "plt.close()\n",
    "print(\"Analysis completed and graphs saved as PNG files.\")"
   ]
  },
  {
   "cell_type": "code",
   "execution_count": null,
   "id": "b009e896",
   "metadata": {},
   "outputs": [],
   "source": []
  }
 ],
 "metadata": {
  "kernelspec": {
   "display_name": "Python 3 (ipykernel)",
   "language": "python",
   "name": "python3"
  },
  "language_info": {
   "codemirror_mode": {
    "name": "ipython",
    "version": 3
   },
   "file_extension": ".py",
   "mimetype": "text/x-python",
   "name": "python",
   "nbconvert_exporter": "python",
   "pygments_lexer": "ipython3",
   "version": "3.9.0rc2"
  }
 },
 "nbformat": 4,
 "nbformat_minor": 5
}
