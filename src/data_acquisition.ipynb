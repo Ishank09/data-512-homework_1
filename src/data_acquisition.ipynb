{
 "cells": [
  {
   "cell_type": "code",
   "execution_count": 11,
   "id": "8522aa8b",
   "metadata": {},
   "outputs": [],
   "source": [
    "import json, time, urllib.parse\n",
    "import pandas as pd\n",
    "from tqdm import tqdm\n",
    "import requests\n",
    "import os"
   ]
  },
  {
   "cell_type": "markdown",
   "id": "e87fb763",
   "metadata": {},
   "source": [
    "# Reading CSV\n",
    "Reading csv file to get all the articles from the csv file given. Sorting them according to the name of the article."
   ]
  },
  {
   "cell_type": "code",
   "execution_count": 12,
   "id": "14d3b018",
   "metadata": {},
   "outputs": [
    {
     "data": {
      "text/html": [
       "<div>\n",
       "<style scoped>\n",
       "    .dataframe tbody tr th:only-of-type {\n",
       "        vertical-align: middle;\n",
       "    }\n",
       "\n",
       "    .dataframe tbody tr th {\n",
       "        vertical-align: top;\n",
       "    }\n",
       "\n",
       "    .dataframe thead th {\n",
       "        text-align: right;\n",
       "    }\n",
       "</style>\n",
       "<table border=\"1\" class=\"dataframe\">\n",
       "  <thead>\n",
       "    <tr style=\"text-align: right;\">\n",
       "      <th></th>\n",
       "      <th>name</th>\n",
       "      <th>url</th>\n",
       "    </tr>\n",
       "  </thead>\n",
       "  <tbody>\n",
       "    <tr>\n",
       "      <th>137</th>\n",
       "      <td>12 Years a Slave (film)</td>\n",
       "      <td>https://en.wikipedia.org/wiki/12_Years_a_Slave...</td>\n",
       "    </tr>\n",
       "    <tr>\n",
       "      <th>53</th>\n",
       "      <td>1917 (2019 film)</td>\n",
       "      <td>https://en.wikipedia.org/wiki/1917_(2019_film)</td>\n",
       "    </tr>\n",
       "    <tr>\n",
       "      <th>148</th>\n",
       "      <td>20 Feet from Stardom</td>\n",
       "      <td>https://en.wikipedia.org/wiki/20_Feet_from_Sta...</td>\n",
       "    </tr>\n",
       "    <tr>\n",
       "      <th>819</th>\n",
       "      <td>20,000 Leagues Under the Sea (1954 film)</td>\n",
       "      <td>https://en.wikipedia.org/wiki/20,000_Leagues_U...</td>\n",
       "    </tr>\n",
       "    <tr>\n",
       "      <th>766</th>\n",
       "      <td>2001: A Space Odyssey (film)</td>\n",
       "      <td>https://en.wikipedia.org/wiki/2001:_A_Space_Od...</td>\n",
       "    </tr>\n",
       "    <tr>\n",
       "      <th>...</th>\n",
       "      <td>...</td>\n",
       "      <td>...</td>\n",
       "    </tr>\n",
       "    <tr>\n",
       "      <th>520</th>\n",
       "      <td>Young at Heart (1987 film)</td>\n",
       "      <td>https://en.wikipedia.org/wiki/Young_at_Heart_(...</td>\n",
       "    </tr>\n",
       "    <tr>\n",
       "      <th>751</th>\n",
       "      <td>Z (1969 film)</td>\n",
       "      <td>https://en.wikipedia.org/wiki/Z_(1969_film)</td>\n",
       "    </tr>\n",
       "    <tr>\n",
       "      <th>156</th>\n",
       "      <td>Zero Dark Thirty</td>\n",
       "      <td>https://en.wikipedia.org/wiki/Zero_Dark_Thirty</td>\n",
       "    </tr>\n",
       "    <tr>\n",
       "      <th>104</th>\n",
       "      <td>Zootopia</td>\n",
       "      <td>https://en.wikipedia.org/wiki/Zootopia</td>\n",
       "    </tr>\n",
       "    <tr>\n",
       "      <th>1358</th>\n",
       "      <td>Zorba the Greek (film)</td>\n",
       "      <td>https://en.wikipedia.org/wiki/Zorba_the_Greek_...</td>\n",
       "    </tr>\n",
       "  </tbody>\n",
       "</table>\n",
       "<p>1359 rows × 2 columns</p>\n",
       "</div>"
      ],
      "text/plain": [
       "                                          name   \n",
       "137                    12 Years a Slave (film)  \\\n",
       "53                            1917 (2019 film)   \n",
       "148                       20 Feet from Stardom   \n",
       "819   20,000 Leagues Under the Sea (1954 film)   \n",
       "766               2001: A Space Odyssey (film)   \n",
       "...                                        ...   \n",
       "520                 Young at Heart (1987 film)   \n",
       "751                              Z (1969 film)   \n",
       "156                           Zero Dark Thirty   \n",
       "104                                   Zootopia   \n",
       "1358                    Zorba the Greek (film)   \n",
       "\n",
       "                                                    url  \n",
       "137   https://en.wikipedia.org/wiki/12_Years_a_Slave...  \n",
       "53       https://en.wikipedia.org/wiki/1917_(2019_film)  \n",
       "148   https://en.wikipedia.org/wiki/20_Feet_from_Sta...  \n",
       "819   https://en.wikipedia.org/wiki/20,000_Leagues_U...  \n",
       "766   https://en.wikipedia.org/wiki/2001:_A_Space_Od...  \n",
       "...                                                 ...  \n",
       "520   https://en.wikipedia.org/wiki/Young_at_Heart_(...  \n",
       "751         https://en.wikipedia.org/wiki/Z_(1969_film)  \n",
       "156      https://en.wikipedia.org/wiki/Zero_Dark_Thirty  \n",
       "104              https://en.wikipedia.org/wiki/Zootopia  \n",
       "1358  https://en.wikipedia.org/wiki/Zorba_the_Greek_...  \n",
       "\n",
       "[1359 rows x 2 columns]"
      ]
     },
     "execution_count": 12,
     "metadata": {},
     "output_type": "execute_result"
    }
   ],
   "source": [
    "df = pd.read_csv(os.path.join(\"..\",\"data\",\"thank_the_academy.AUG.2023.csv\"))\n",
    "\n",
    "df.sort_values(by=['name'])\n"
   ]
  },
  {
   "cell_type": "markdown",
   "id": "e16bd609",
   "metadata": {},
   "source": [
    "# API Endpoints\n",
    "This section stores all the URLs which we'll be calling. This also define few of the parmeters which will remain constant throughout the program."
   ]
  },
  {
   "cell_type": "code",
   "execution_count": 13,
   "id": "6f30ad58",
   "metadata": {},
   "outputs": [],
   "source": [
    "# API endpoints for mobile web, mobile app, and desktop data\n",
    "base_api_url = \"https://wikimedia.org/api/rest_v1/metrics/pageviews/per-article/en.wikipedia\"\n",
    "mobile_web_suffix = \"/mobile-web/user/\"\n",
    "mobile_app_suffix = \"/mobile-app/user/\"\n",
    "desktop_suffix = \"/desktop/user/\"\n",
    "granularity = \"/monthly/2015070100/2023093000\"  # Updated date range\n"
   ]
  },
  {
   "cell_type": "markdown",
   "id": "62ec6e36",
   "metadata": {},
   "source": [
    "# Headers\n",
    "Using headers as stated in documentation."
   ]
  },
  {
   "cell_type": "code",
   "execution_count": 14,
   "id": "42aedbf1",
   "metadata": {},
   "outputs": [],
   "source": [
    "# User-Agent header\n",
    "headers = {\n",
    "    'User-Agent': '<uwnetid@uw.edu>, University of Washington, MSDS DATA 512 - AUTUMN 2023',\n",
    "}"
   ]
  },
  {
   "cell_type": "markdown",
   "id": "065bc404",
   "metadata": {},
   "source": [
    "# Response Dictionaries\n",
    "All responses will be stored in this and then change to json files."
   ]
  },
  {
   "cell_type": "code",
   "execution_count": 15,
   "id": "df4e9db6",
   "metadata": {},
   "outputs": [],
   "source": [
    "# dictionaries to store data\n",
    "all_monthly_mobile_access = {}\n",
    "all_monthly_desktop_access = {}\n",
    "all_monthly_cumulative = {}\n"
   ]
  },
  {
   "cell_type": "markdown",
   "id": "d2f63a68",
   "metadata": {},
   "source": [
    "# Data Aquisition: Iterating rows, Calling APIs, and combining results\n",
    "In this block, we're calling the apis with the parameters mentioned above, and then on the bases of the logic provided we;re collecting data."
   ]
  },
  {
   "cell_type": "code",
   "execution_count": 16,
   "id": "58805a1b",
   "metadata": {},
   "outputs": [
    {
     "name": "stderr",
     "output_type": "stream",
     "text": [
      "583it [16:44,  1.50s/it]"
     ]
    },
    {
     "name": "stdout",
     "output_type": "stream",
     "text": [
      "Failed to retrieve data for 'Victor/Victoria'. Mobile web status code: 404, Mobile app status code: 404, Desktop status code: 404\n"
     ]
    },
    {
     "name": "stderr",
     "output_type": "stream",
     "text": [
      "654it [18:52,  1.44s/it]"
     ]
    },
    {
     "name": "stdout",
     "output_type": "stream",
     "text": [
      "Failed to retrieve data for 'Who Are the DeBolts? And Where Did They Get Nineteen Kids?'. Mobile web status code: 404, Mobile app status code: 404, Desktop status code: 404\n"
     ]
    },
    {
     "name": "stderr",
     "output_type": "stream",
     "text": [
      "746it [21:33,  1.21s/it]"
     ]
    },
    {
     "name": "stdout",
     "output_type": "stream",
     "text": [
      "Failed to retrieve data for 'Is It Always Right to Be Right?'. Mobile web status code: 404, Mobile app status code: 404, Desktop status code: 404\n"
     ]
    },
    {
     "name": "stderr",
     "output_type": "stream",
     "text": [
      "754it [21:46,  1.39s/it]"
     ]
    },
    {
     "name": "stdout",
     "output_type": "stream",
     "text": [
      "Failed to retrieve data for 'They Shoot Horses, Don't They? (film)'. Mobile web status code: 404, Mobile app status code: 404, Desktop status code: 404\n"
     ]
    },
    {
     "name": "stderr",
     "output_type": "stream",
     "text": [
      "795it [22:58,  1.31s/it]"
     ]
    },
    {
     "name": "stdout",
     "output_type": "stream",
     "text": [
      "Failed to retrieve data for 'Who's Afraid of Virginia Woolf? (film)'. Mobile web status code: 404, Mobile app status code: 404, Desktop status code: 404\n"
     ]
    },
    {
     "name": "stderr",
     "output_type": "stream",
     "text": [
      "1331it [38:41,  1.45s/it]"
     ]
    },
    {
     "name": "stdout",
     "output_type": "stream",
     "text": [
      "Failed to retrieve data for 'What Ever Happened to Baby Jane? (1962 film)'. Mobile web status code: 404, Mobile app status code: 404, Desktop status code: 404\n"
     ]
    },
    {
     "name": "stderr",
     "output_type": "stream",
     "text": [
      "1338it [38:52,  1.28s/it]"
     ]
    },
    {
     "name": "stdout",
     "output_type": "stream",
     "text": [
      "Failed to retrieve data for 'Why Korea?'. Mobile web status code: 404, Mobile app status code: 404, Desktop status code: 404\n"
     ]
    },
    {
     "name": "stderr",
     "output_type": "stream",
     "text": [
      "1359it [39:29,  1.74s/it]\n"
     ]
    }
   ],
   "source": [
    "# Loop through each row\n",
    "for index, row in tqdm(df.iterrows()):\n",
    "    article_name = row[\"name\"]\n",
    "    article_url = row[\"url\"]\n",
    "\n",
    "    mobile_web_api_endpoint = f\"{base_api_url}{mobile_web_suffix}{article_name}{granularity}\"\n",
    "    mobile_app_api_endpoint = f\"{base_api_url}{mobile_app_suffix}{article_name}{granularity}\"\n",
    "    desktop_api_endpoint = f\"{base_api_url}{desktop_suffix}{article_name}{granularity}\"\n",
    "\n",
    "    mobile_web_response = requests.get(mobile_web_api_endpoint, headers=headers)\n",
    "    mobile_app_response = requests.get(mobile_app_api_endpoint, headers=headers)\n",
    "    desktop_response = requests.get(desktop_api_endpoint, headers=headers)\n",
    "\n",
    "    # Check if the requests were successful\n",
    "    if (mobile_web_response.status_code == 200 and\n",
    "        mobile_app_response.status_code == 200 and\n",
    "        desktop_response.status_code == 200):\n",
    "        \n",
    "        # Parse mobile web data\n",
    "        mobile_web_data = mobile_web_response.json()['items']\n",
    "        monthly_mobile_web_access = {}\n",
    "        for item in mobile_web_data:\n",
    "            month = item['timestamp'][:6]  \n",
    "            pageviews = item['views']\n",
    "            monthly_mobile_web_access[month] = pageviews\n",
    "\n",
    "        # Parse mobile app data\n",
    "        mobile_app_data = mobile_app_response.json()['items']\n",
    "        monthly_mobile_app_access = {}\n",
    "        for item in mobile_app_data:\n",
    "            month = item['timestamp'][:6] \n",
    "            pageviews = item['views']\n",
    "            monthly_mobile_app_access[month] = pageviews\n",
    "\n",
    "        # Combine mobile web and mobile app data for total mobile access\n",
    "        monthly_mobile_access = {}\n",
    "        for month in monthly_mobile_web_access.keys():\n",
    "            web_count = monthly_mobile_web_access.get(month, 0)\n",
    "            app_count = monthly_mobile_app_access.get(month, 0)\n",
    "            total_mobile_count = web_count + app_count\n",
    "            monthly_mobile_access[month] = total_mobile_count\n",
    "\n",
    "        # Parse desktop data\n",
    "        desktop_data = desktop_response.json()['items']\n",
    "        monthly_desktop_access = {}\n",
    "        for item in desktop_data:\n",
    "            month = item['timestamp'][:6] \n",
    "            pageviews = item['views']\n",
    "            monthly_desktop_access[month] = pageviews\n",
    "\n",
    "        # Store data in dictionaries\n",
    "        all_monthly_mobile_access[article_name] = monthly_mobile_access\n",
    "        all_monthly_desktop_access[article_name] = monthly_desktop_access\n",
    "\n",
    "        # Calculate cumulative data\n",
    "        monthly_cumulative = {}\n",
    "        for month in monthly_mobile_access.keys():\n",
    "            total_mobile = monthly_mobile_access.get(month, 0)\n",
    "            total_desktop = monthly_desktop_access.get(month, 0)\n",
    "            total_cumulative = total_mobile + total_desktop\n",
    "            monthly_cumulative[month] = total_cumulative\n",
    "\n",
    "        all_monthly_cumulative[article_name] = monthly_cumulative\n",
    "    else:\n",
    "        print(f\"Failed to retrieve data for '{article_name}'. Mobile web status code: {mobile_web_response.status_code}, Mobile app status code: {mobile_app_response.status_code}, Desktop status code: {desktop_response.status_code}\")\n",
    "\n"
   ]
  },
  {
   "cell_type": "markdown",
   "id": "d5ff7e6a",
   "metadata": {},
   "source": [
    "Saving Data"
   ]
  },
  {
   "cell_type": "code",
   "execution_count": 18,
   "id": "f8829980",
   "metadata": {},
   "outputs": [
    {
     "name": "stdout",
     "output_type": "stream",
     "text": [
      "All data saved successfully.\n"
     ]
    }
   ],
   "source": [
    "# Save all data to JSON files\n",
    "with open(\"../data/academy_monthly_mobile_201507-202312.json\", \"w\") as mobile_file:\n",
    "    json.dump(all_monthly_mobile_access, mobile_file)\n",
    "\n",
    "with open(\"../data/academy_monthly_desktop_201507-202312.json\", \"w\") as desktop_file:\n",
    "    json.dump(all_monthly_desktop_access, desktop_file)\n",
    "\n",
    "with open(\"../data/academy_monthly_cumulative_201507-202312.json\", \"w\") as cumulative_file:\n",
    "    json.dump(all_monthly_cumulative, cumulative_file)\n",
    "\n",
    "print(\"All data saved successfully.\")"
   ]
  },
  {
   "cell_type": "code",
   "execution_count": null,
   "id": "4c9405bd",
   "metadata": {},
   "outputs": [],
   "source": []
  }
 ],
 "metadata": {
  "kernelspec": {
   "display_name": "Python 3 (ipykernel)",
   "language": "python",
   "name": "python3"
  },
  "language_info": {
   "codemirror_mode": {
    "name": "ipython",
    "version": 3
   },
   "file_extension": ".py",
   "mimetype": "text/x-python",
   "name": "python",
   "nbconvert_exporter": "python",
   "pygments_lexer": "ipython3",
   "version": "3.9.0rc2"
  }
 },
 "nbformat": 4,
 "nbformat_minor": 5
}
